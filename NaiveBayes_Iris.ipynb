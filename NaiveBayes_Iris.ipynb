{
  "nbformat": 4,
  "nbformat_minor": 0,
  "metadata": {
    "colab": {
      "name": "NaiveBayes_Iris.ipynb",
      "provenance": [],
      "authorship_tag": "ABX9TyPYu2ivBSRzZeO2m0H9eETK",
      "include_colab_link": true
    },
    "kernelspec": {
      "name": "python3",
      "display_name": "Python 3"
    },
    "language_info": {
      "name": "python"
    }
  },
  "cells": [
    {
      "cell_type": "markdown",
      "metadata": {
        "id": "view-in-github",
        "colab_type": "text"
      },
      "source": [
        "<a href=\"https://colab.research.google.com/github/elianekelm/IA_PUC_Minas/blob/master/NaiveBayes_Iris.ipynb\" target=\"_parent\"><img src=\"https://colab.research.google.com/assets/colab-badge.svg\" alt=\"Open In Colab\"/></a>"
      ]
    },
    {
      "cell_type": "markdown",
      "metadata": {
        "id": "jUiEjOVwghEu"
      },
      "source": [
        "# **Naive Bayes**\n",
        "\n",
        "Ilustra o funcionamento do algoritmo de Naive Bayes com atributos numéricos.\n",
        "\n",
        "Este notebook foi desenvolvido para o ambiente Google Colab.\n",
        "\n",
        "Prof. Hugo de Paula - PUC Minas"
      ]
    },
    {
      "cell_type": "markdown",
      "metadata": {
        "id": "BuSjbLeig9aR"
      },
      "source": [
        "### **Base de dados: Iris dataset (espécies de lírios)**\n",
        "\n",
        "https://archive.ics.uci.edu/ml/datasets/Iris\n",
        "\n",
        "  - 3 classes (setosa, virginica, versicolor)\n",
        "  - 50 amostras por classe (total 150)\n",
        "  - 4 atributos reais positivos:\n",
        "    * comprimento da pétala\n",
        "    * comprimento da sépala\n",
        "    * largura da pétala\n",
        "    * largura da sépala\n",
        "\n",
        "### **Carga dos dados e particionamento das bases de treinamento e teste**\n",
        "\n",
        "train_test_split(X, y) --> particiona a base de dados original em bases de treinamento e teste.\n",
        "Por padrão, 75% da base é utilizada para treinamento e 25% para testes.\n",
        "\n"
      ]
    },
    {
      "cell_type": "code",
      "metadata": {
        "id": "oA953IjIiMQi"
      },
      "source": [
        "import pandas as pd\n",
        "from sklearn.datasets import load_iris\n",
        "from sklearn.model_selection import train_test_split\n",
        "from sklearn.naive_bayes import GaussianNB\n",
        "from sklearn.metrics import confusion_matrix, classification_report\n",
        "\n",
        "iris = load_iris() # Carrega o modelo\n",
        "\n",
        "X_train, X_test, y_train, y_test = train_test_split(\n",
        "    iris['data'], iris['target'], random_state=0)"
      ],
      "execution_count": 1,
      "outputs": []
    },
    {
      "cell_type": "markdown",
      "metadata": {
        "id": "u-jdMdG_jwc6"
      },
      "source": [
        "## **Indução do Modelo Gaussian Naíve Bayes**\n",
        "\n",
        "O Gaussian Naíve Bayes é o algoritmo capaz de induzir um modelo a partir de dados numéricos.\n",
        "\n",
        "Os três passos para indução de um modelo são:\n",
        "  1. Instanciar o modelo: GaussianNB()\n",
        "  2. Treinar o modelo: fit()\n",
        "  3. Testar o modelo: predict()\n",
        "  "
      ]
    },
    {
      "cell_type": "code",
      "metadata": {
        "colab": {
          "base_uri": "https://localhost:8080/"
        },
        "id": "RaEKiRFpkgEn",
        "outputId": "ea182155-68f6-44f4-fe68-c8e83ae8bf6c"
      },
      "source": [
        "gnb = GaussianNB()\n",
        "y_pred = gnb.fit(X_train, y_train).predict(X_test)\n",
        "\n",
        "print(f\"Numero de erros de classificação {(y_test != y_pred).sum()} de {iris.data.shape[0]}\")\n",
        "\n",
        "ac = gnb.score(X_test, y_test)\n",
        "\n",
        "print(f\"\\nAcurácia do modelo: {100*ac:.2f}%\")\n",
        "\n",
        "print(classification_report(y_test, y_pred, target_names=iris.target_names))\n",
        "\n",
        "cnf_matrix = confusion_matrix(y_test, y_pred)\n",
        "cnf_table = pd.DataFrame(data=cnf_matrix, index=iris.target_names, columns=[x + \"(prev)\" for x in iris.target_names])\n",
        "print(cnf_table)"
      ],
      "execution_count": 8,
      "outputs": [
        {
          "output_type": "stream",
          "text": [
            "Numero de erros de classificação 0 de 150\n",
            "\n",
            "Acurácia do modelo: 100.00%\n",
            "              precision    recall  f1-score   support\n",
            "\n",
            "      setosa       1.00      1.00      1.00        13\n",
            "  versicolor       1.00      1.00      1.00        16\n",
            "   virginica       1.00      1.00      1.00         9\n",
            "\n",
            "    accuracy                           1.00        38\n",
            "   macro avg       1.00      1.00      1.00        38\n",
            "weighted avg       1.00      1.00      1.00        38\n",
            "\n",
            "            setosa(prev)  versicolor(prev)  virginica(prev)\n",
            "setosa                13                 0                0\n",
            "versicolor             0                16                0\n",
            "virginica              0                 0                9\n"
          ],
          "name": "stdout"
        }
      ]
    }
  ]
}