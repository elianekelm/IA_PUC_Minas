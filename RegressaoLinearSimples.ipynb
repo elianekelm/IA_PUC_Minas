{
  "nbformat": 4,
  "nbformat_minor": 0,
  "metadata": {
    "colab": {
      "name": "RegressaoLinearSimples.ipynb",
      "provenance": [],
      "authorship_tag": "ABX9TyNc4jxChZOou1/I44/WVfpr",
      "include_colab_link": true
    },
    "kernelspec": {
      "name": "python3",
      "display_name": "Python 3"
    },
    "language_info": {
      "name": "python"
    }
  },
  "cells": [
    {
      "cell_type": "markdown",
      "metadata": {
        "id": "view-in-github",
        "colab_type": "text"
      },
      "source": [
        "<a href=\"https://colab.research.google.com/github/elianekelm/IA_PUC_Minas/blob/master/RegressaoLinearSimples.ipynb\" target=\"_parent\"><img src=\"https://colab.research.google.com/assets/colab-badge.svg\" alt=\"Open In Colab\"/></a>"
      ]
    },
    {
      "cell_type": "markdown",
      "metadata": {
        "id": "QuJIrHq7hAPh"
      },
      "source": [
        "#**Regressão Linear Simples**\n",
        "\n",
        "Implementação em Python - (estudando o modelo)\n",
        "\n"
      ]
    },
    {
      "cell_type": "code",
      "metadata": {
        "id": "YQ76gYQpg7i1"
      },
      "source": [
        "import numpy as np      #Numpy para criar alguns valores fictícios\n",
        "import matplotlib.pyplot as plt       #Para criação de gráfico\n",
        "from sklearn.linear_model import LinearRegression  #algoritmo Regressão Linear do Scikit-learn"
      ],
      "execution_count": 40,
      "outputs": []
    },
    {
      "cell_type": "code",
      "metadata": {
        "id": "9FtLyTfNiDGP"
      },
      "source": [
        "#Criando duas listas para representar os valores X e y:\n",
        "# X ---> representa a altura hipotética de 14 pessoas\n",
        "# y ---> representa o peso de 14 pessoas\n",
        "\n",
        "X = np.array([1.44, 1.5, 1.51, 1.53, 1.55, 1.57, 1.63, 1.65, 1.69, 1.71, 1.73, 1.78, 1.8, 1.85]).reshape(-1, 1)\n",
        "\n",
        "y = np.array([50.44, 53.7, 57.2, 58.9, 58.99, 59.97, 62, 62.5, 63.22, 65.4, 66.28, 67.1, 73.19, 85.24])"
      ],
      "execution_count": 41,
      "outputs": []
    },
    {
      "cell_type": "markdown",
      "metadata": {
        "id": "aJWy234qi5q_"
      },
      "source": [
        "## **Instanciando o modelo**:\n",
        "\n",
        "1. Instanciar o modelo: LinearRegression( )\n",
        "2. Treinar o modelo: fit( )\n",
        "\n",
        "### *O modelo será instanciado e treinado com os valores criados acima.*"
      ]
    },
    {
      "cell_type": "code",
      "metadata": {
        "colab": {
          "base_uri": "https://localhost:8080/"
        },
        "id": "YMan-IqDjlT1",
        "outputId": "9cef3af2-eaaa-4098-e535-79dfd464ab61"
      },
      "source": [
        "model = LinearRegression()\n",
        "\n",
        "model.fit(X, y)"
      ],
      "execution_count": 42,
      "outputs": [
        {
          "output_type": "execute_result",
          "data": {
            "text/plain": [
              "LinearRegression(copy_X=True, fit_intercept=True, n_jobs=None, normalize=False)"
            ]
          },
          "metadata": {
            "tags": []
          },
          "execution_count": 42
        }
      ]
    },
    {
      "cell_type": "markdown",
      "metadata": {
        "id": "-5c15pQtkR3Y"
      },
      "source": [
        ""
      ]
    },
    {
      "cell_type": "markdown",
      "metadata": {
        "id": "Rh1swJwgkkbN"
      },
      "source": [
        "## Extraindo os coeficientes que compõe a Regressão Linear\n",
        "\n",
        "# **y = β0 + β1.X + ε**\n",
        "\n",
        "Onde:\n",
        "- y é a variável dependente (valor PREVISTO); \"peso\"\n",
        "- β0 é o coeficiente que intercepta (corta o eixo y);\n",
        "- β1 é o coeficiente que define a inclinação da reta;\n",
        "- X é a variável independente (PREDITIVA); \"altura\"\n",
        "- ε é o erro padrão.\n",
        "\n",
        "\n",
        "O objetivo é encontrar as melhores estimativas para os coeficientes que minimizam os erros de previsão de y a partir de X."
      ]
    },
    {
      "cell_type": "code",
      "metadata": {
        "colab": {
          "base_uri": "https://localhost:8080/"
        },
        "id": "StEpZef9t_4w",
        "outputId": "997bacbd-62ef-44d5-c63e-ef1d749f4c68"
      },
      "source": [
        "# β0: (intercept = \"intercepta\")\n",
        "intercept = model.intercept_\n",
        "print(f'Coeficiente β0: {intercept:.2f}')\n",
        "\n",
        "# β1: (slope = \"inclinação\")\n",
        "slope = model.coef_\n",
        "print(f'Coeficiente β1: {slope.round(2)}')\n",
        "\n",
        "\n",
        "# Equação:\n",
        "print(f\"y = {intercept:.2f} + {slope.round(2)} * X\")\n"
      ],
      "execution_count": 43,
      "outputs": [
        {
          "output_type": "stream",
          "text": [
            "Coeficiente β0: -39.56\n",
            "Coeficiente β1: [62.69]\n",
            "y = -39.56 + [62.69] * X\n"
          ],
          "name": "stdout"
        }
      ]
    },
    {
      "cell_type": "markdown",
      "metadata": {
        "id": "YjYti-7LwZ2S"
      },
      "source": [
        "## Resultado com o modelo criado"
      ]
    },
    {
      "cell_type": "code",
      "metadata": {
        "colab": {
          "base_uri": "https://localhost:8080/"
        },
        "id": "i_Jgs-TswdHp",
        "outputId": "8d650cee-13fe-43d7-82a8-ff8bf806d4cd"
      },
      "source": [
        "y_predictModel = model.predict(X)\n",
        "print(y_predictModel)"
      ],
      "execution_count": 44,
      "outputs": [
        {
          "output_type": "stream",
          "text": [
            "[50.70458437 54.46571715 55.09257261 56.34628354 57.59999447 58.85370539\n",
            " 62.61483817 63.8685491  66.37597095 67.62968188 68.88339281 72.01767012\n",
            " 73.27138105 76.40565837]\n"
          ],
          "name": "stdout"
        }
      ]
    },
    {
      "cell_type": "markdown",
      "metadata": {
        "id": "Nmmt09zkxo-n"
      },
      "source": [
        "# Visualizando o Gráfico de Regressão Linear"
      ]
    },
    {
      "cell_type": "code",
      "metadata": {
        "colab": {
          "base_uri": "https://localhost:8080/",
          "height": 517
        },
        "id": "-SQCh3gNxtgI",
        "outputId": "ad775e92-5c0f-42be-ef2c-89595b2aeeed"
      },
      "source": [
        "plt.figure(figsize=(10,8))     \n",
        "plt.scatter(X, y,  color='blue')\n",
        "plt.plot(X, model.predict(X), color='orange', linewidth=3)\n",
        "\n",
        "# definindo x e y\n",
        "plt.xticks(np.arange(1.40, 1.95, 0.1))\n",
        "plt.yticks([50, 55, 60, 65, 70, 75, 80])\n",
        "plt.xlabel(\"Altura (m)\")\n",
        "plt.ylabel(\"Peso (kg)\")\n",
        "plt.title(\"Demonstração de Regressão Linear\", fontweight=\"bold\", size=18)\n",
        "plt.show()"
      ],
      "execution_count": 45,
      "outputs": [
        {
          "output_type": "display_data",
          "data": {
            "image/png": "[encoded data removed]",
            "text/plain": [
              "<Figure size 720x576 with 1 Axes>"
            ]
          },
          "metadata": {
            "tags": [],
            "needs_background": "light"
          }
        }
      ]
    }
  ]
}