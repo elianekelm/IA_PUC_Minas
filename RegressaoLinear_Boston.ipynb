{
  "nbformat": 4,
  "nbformat_minor": 0,
  "metadata": {
    "colab": {
      "name": "RegressaoLinear_Boston.ipynb",
      "provenance": [],
      "collapsed_sections": [],
      "authorship_tag": "ABX9TyOpGtcURn02VDHpeWnToYVV",
      "include_colab_link": true
    },
    "kernelspec": {
      "name": "python3",
      "display_name": "Python 3"
    },
    "language_info": {
      "name": "python"
    }
  },
  "cells": [
    {
      "cell_type": "markdown",
      "metadata": {
        "id": "view-in-github",
        "colab_type": "text"
      },
      "source": [
        "<a href=\"https://colab.research.google.com/github/elianekelm/IA_PUC_Minas/blob/master/RegressaoLinear_Boston.ipynb\" target=\"_parent\"><img src=\"https://colab.research.google.com/assets/colab-badge.svg\" alt=\"Open In Colab\"/></a>"
      ]
    },
    {
      "cell_type": "markdown",
      "metadata": {
        "id": "s5J32wbYA8p0"
      },
      "source": [
        "# **Regressão Linear, Ridge e Lasso**\n",
        "\n",
        "Realiza uma análise comparativa entre a Regressão Linear, o Ridge e o Lasso no Boston Housing Dataset.\n",
        "\n",
        "Baseado no livro: Andreas C. Muller, Sarah Guido (2016) Introduction to Machine Learning with Python: A Guide for Data Scientists 1st Edition.\n",
        "\n",
        "Este notebook foi desenvolvido para o ambiente Google Colab.\n",
        "\n",
        "Prof.: Hudo de Paula - PUC Minas\n",
        "\n",
        "## **Base de dados: Boston Housing dataset**\n",
        "\n",
        "https://www.cs.toronto.edu/~delve/data/boston/bostonDetail.html\n",
        "\n",
        "- 506 registros\n",
        "- 13 atributos\n"
      ]
    },
    {
      "cell_type": "code",
      "metadata": {
        "id": "PHgaThsTAvhv"
      },
      "source": [
        "from sklearn.datasets import load_boston\n",
        "from sklearn.model_selection import train_test_split\n",
        "from sklearn.preprocessing import MinMaxScaler, PolynomialFeatures\n",
        "from sklearn.linear_model import LinearRegression, Ridge, Lasso\n",
        "\n",
        "import numpy as np\n",
        "import matplotlib.pyplot as plt"
      ],
      "execution_count": null,
      "outputs": []
    },
    {
      "cell_type": "code",
      "metadata": {
        "colab": {
          "base_uri": "https://localhost:8080/"
        },
        "id": "BZheiNqzGK7t",
        "outputId": "21e9703f-4f6a-478a-ccb8-e3ec4e84b985"
      },
      "source": [
        "boston = load_boston()\n",
        "X = boston.data\n",
        "print(f\"Número de atributos original: \\n{X.shape}\")\n"
      ],
      "execution_count": null,
      "outputs": [
        {
          "output_type": "stream",
          "text": [
            "Número de atributos original: \n",
            "(506, 13)\n"
          ],
          "name": "stdout"
        }
      ]
    },
    {
      "cell_type": "code",
      "metadata": {
        "colab": {
          "base_uri": "https://localhost:8080/"
        },
        "id": "CdOpPc-YGejM",
        "outputId": "4ae22e62-3104-48bd-9d58-1bb47db3bbd1"
      },
      "source": [
        "# O PolynomialFeatures() aumenta a dimensão dos dados produzindo novos atributos\n",
        "# que são combinações lineares dos dados originais\n",
        "\n",
        "X = MinMaxScaler().fit_transform(boston.data)\n",
        "X = PolynomialFeatures(degree=2, include_bias=False).fit_transform(X)\n",
        "\n",
        "print(f\"Polynomial Features (atributos redundantes): \\n{X.shape}\")\n",
        "y = boston.target"
      ],
      "execution_count": null,
      "outputs": [
        {
          "output_type": "stream",
          "text": [
            "Polynomial Features (atributos redundantes): \n",
            "(506, 104)\n"
          ],
          "name": "stdout"
        }
      ]
    },
    {
      "cell_type": "markdown",
      "metadata": {
        "id": "mj1TgPmrH7UC"
      },
      "source": [
        "## **Regressão Linear**\n",
        "\n",
        "Os passos para indução de um modelo são:\n",
        "\n",
        "  1. Instanciar o modelo: LinearRegression()\n",
        "  2. Treinar o modelo: fit()\n",
        "\n",
        "O método score() retorna o coeficiente R^2 de predição."
      ]
    },
    {
      "cell_type": "code",
      "metadata": {
        "colab": {
          "base_uri": "https://localhost:8080/"
        },
        "id": "XIPNMhK9ITNL",
        "outputId": "552e9378-18a2-44c1-e157-1e9d3cedd621"
      },
      "source": [
        "X_train, X_test, y_train, y_test = train_test_split(X, y, random_state=0)\n",
        "lr = LinearRegression().fit(X_train, y_train)\n",
        "\n",
        "print(\"Regressão Linear (com atributos redundantes)\".upper())\n",
        "print(f\"\\nAcurácia na base de treinamento: {lr.score(X_train, y_train):.2f}\")\n",
        "print(f\"Acurácia na base de teste: {lr.score(X_test, y_test):.2f}\")"
      ],
      "execution_count": null,
      "outputs": [
        {
          "output_type": "stream",
          "text": [
            "REGRESSÃO LINEAR (COM ATRIBUTOS REDUNDANTES)\n",
            "\n",
            "Acurácia na base de treinamento: 0.95\n",
            "Acurácia na base de teste: 0.61\n"
          ],
          "name": "stdout"
        }
      ]
    },
    {
      "cell_type": "markdown",
      "metadata": {
        "id": "jY0i01TpKZ1c"
      },
      "source": [
        "## **Ridge (Regressão Linear com regularização L2)**\n",
        "\n",
        "Força uma redução do valor dos coeficientes, penalizando coeficientes grandes que não contribuem significativamente para a explicação da variância do sinal.\n",
        "\n",
        "A força da regularização é dada pelo atributo alpha, com valor *default* igual a 1."
      ]
    },
    {
      "cell_type": "code",
      "metadata": {
        "colab": {
          "base_uri": "https://localhost:8080/"
        },
        "id": "WKWDJ7XjK65C",
        "outputId": "7eab9105-3030-49da-c28a-8a639ebec046"
      },
      "source": [
        "ridge = Ridge().fit(X_train, y_train)\n",
        "print(\"Ridge alpha = 1\".upper())  \n",
        "print(f\"Acurácia na base de treinamento: {ridge.score(X_train, y_train):.2f}\")\n",
        "print(f\"Acurácia na base de teste: {ridge.score(X_test, y_test):.2f}\")\n",
        "\n",
        "ridge10 = Ridge(alpha=10).fit(X_train, y_train)\n",
        "print(\"\\nRidge alpha = 10\".upper())\n",
        "print(f\"Acurácia na base de treinamento: {ridge10.score(X_train, y_train):.2f}\")\n",
        "print(f\"Acurácia na base de teste: {ridge10.score(X_test, y_test):.2f}\")\n",
        "\n",
        "ridge01 = Ridge(alpha=0.1).fit(X_train, y_train)\n",
        "print(\"\\nRidge alpha = 0.1\".upper())\n",
        "print(f\"Acurácia na base de treinamento: {ridge01.score(X_train, y_train):.2f}\")\n",
        "print(f\"Acurácia na base de teste: {ridge01.score(X_test, y_test):.2f}\")\n"
      ],
      "execution_count": null,
      "outputs": [
        {
          "output_type": "stream",
          "text": [
            "RIDGE ALPHA = 1\n",
            "Acurácia na base de treinamento: 0.89\n",
            "Acurácia na base de teste: 0.75\n",
            "\n",
            "RIDGE ALPHA = 10\n",
            "Acurácia na base de treinamento: 0.79\n",
            "Acurácia na base de teste: 0.64\n",
            "\n",
            "RIDGE ALPHA = 0.1\n",
            "Acurácia na base de treinamento: 0.93\n",
            "Acurácia na base de teste: 0.77\n"
          ],
          "name": "stdout"
        }
      ]
    },
    {
      "cell_type": "markdown",
      "metadata": {
        "id": "8xC8eeDyO4On"
      },
      "source": [
        "## **Comparação da Regressão Linear e Ridge**\n",
        "\n",
        "O gráfico exibe a magnitude dos coeficientes obtidos por cada método. Pode-se observar como a regularização afeta a magnitude dos coeficientes do Ridge como um todo, mas sem zerar coeficientes de uma forma geral."
      ]
    },
    {
      "cell_type": "code",
      "metadata": {
        "colab": {
          "base_uri": "https://localhost:8080/",
          "height": 405
        },
        "id": "NDMIARRxPW4F",
        "outputId": "4d064cbd-eca5-4ff5-d667-696bb7be78f7"
      },
      "source": [
        "plt.figure(figsize=(9,6))\n",
        "plt.plot(ridge.coef_, 's', label=\"Ridge alpha=1\")\n",
        "plt.plot(ridge10.coef_, '^', label=\"Ridge alpha = 10\")\n",
        "plt.plot(ridge01.coef_, 'v', label=\"Ridge alpha = 0.1\")\n",
        "plt.plot(lr.coef_, 'o', label=\"Regressão Linear\")\n",
        "plt.xlabel(\"Coeficiente\")\n",
        "plt.ylabel(\"Magnitude\")\n",
        "plt.hlines(0,0, len(lr.coef_))\n",
        "plt.ylim(-25, 25)\n",
        "plt.legend()"
      ],
      "execution_count": null,
      "outputs": [
        {
          "output_type": "execute_result",
          "data": {
            "text/plain": [
              "<matplotlib.legend.Legend at 0x7fb0adb19bd0>"
            ]
          },
          "metadata": {
            "tags": []
          },
          "execution_count": 9
        },
        {
          "output_type": "display_data",
          "data": {
            "image/png": "[encoded data removed]",
            "text/plain": [
              "<Figure size 648x432 with 1 Axes>"
            ]
          },
          "metadata": {
            "tags": [],
            "needs_background": "light"
          }
        }
      ]
    },
    {
      "cell_type": "markdown",
      "metadata": {
        "id": "38mlwVQTzdUr"
      },
      "source": [
        "## **LASSO (Regressão linear com regularização L1)**\n",
        "\n",
        "Força uma redução do valor dos coeficientes, podendo zerar diversos coeficientes cujos atributos não contribuem significativamente para a previsão. Muito utilizado no apoio à tarefa de seleção de atributos *(feature selection)*.\n",
        "\n",
        "A força da regularização é dada pelo atributo *alpha*, com valor default igual a 1. Alpha=0 resulta na regressão linear tradicional."
      ]
    },
    {
      "cell_type": "code",
      "metadata": {
        "colab": {
          "base_uri": "https://localhost:8080/"
        },
        "id": "UyHgHlAf0Tnr",
        "outputId": "345ddcce-f0db-46dc-d2ba-17fb68a7da34"
      },
      "source": [
        "lasso = Lasso().fit(X_train, y_train)\n",
        "print(\"Lasso alpha = 1\".upper())\n",
        "print(f\"Acurácia na base de treinamento: {lasso.score(X_train, y_train):.2f}\")\n",
        "print(f\"Acurácia na base de teste: {lasso.score(X_test, y_test):.2f}\")\n",
        "print(f\"Número de atributos usados: {np.sum(lasso.coef_!= 0)}\")\n",
        "\n",
        "lasso001 = Lasso(alpha=0.01, max_iter=100000).fit(X_train, y_train)\n",
        "print(\"\\nLasso alpha = 0.01\".upper())\n",
        "print(f\"Acurácia na base de treinamento: {lasso001.score(X_train, y_train):.2f}\")\n",
        "print(f\"Acurácia na base de teste: {lasso001.score(X_test, y_test):.2f}\")\n",
        "print(f\"Número de atributos usados: {np.sum(lasso001.coef_!= 0)}\")\n",
        "\n",
        "\n",
        "lasso00001 = Lasso(alpha=0.0001, max_iter=100000).fit(X_train, y_train)\n",
        "print(\"\\nLasso alpha = 0.0001\".upper())\n",
        "print(f\"Acurácia na base de treinamento: {lasso00001.score(X_train, y_train):.2f}\")\n",
        "print(f\"Acurácia na base de teste: {lasso00001.score(X_test, y_test):.2f}\")\n",
        "print(f\"Número de atributos usados: {np.sum(lasso00001.coef_!= 0)}\")\n",
        "\n"
      ],
      "execution_count": null,
      "outputs": [
        {
          "output_type": "stream",
          "text": [
            "LASSO ALPHA = 1\n",
            "Acurácia na base de treinamento: 0.29\n",
            "Acurácia na base de teste: 0.21\n",
            "Número de atributos usados: 4\n",
            "\n",
            "LASSO ALPHA = 0.01\n",
            "Acurácia na base de treinamento: 0.90\n",
            "Acurácia na base de teste: 0.77\n",
            "Número de atributos usados: 33\n",
            "\n",
            "LASSO ALPHA = 0.0001\n",
            "Acurácia na base de treinamento: 0.95\n",
            "Acurácia na base de teste: 0.64\n",
            "Número de atributos usados: 96\n"
          ],
          "name": "stdout"
        }
      ]
    },
    {
      "cell_type": "markdown",
      "metadata": {
        "id": "YvVgnbpx2t9r"
      },
      "source": [
        "## **Comparação do LASSO e Ridge**\n",
        "\n",
        "O gráfico exibe a magnitude dos coeficientes obtidos por cada método."
      ]
    },
    {
      "cell_type": "code",
      "metadata": {
        "colab": {
          "base_uri": "https://localhost:8080/",
          "height": 455
        },
        "id": "NH5uEryr3KME",
        "outputId": "c0072971-bb35-4c2c-f714-16e233572457"
      },
      "source": [
        "plt.figure(figsize=(9,6))\n",
        "plt.plot(lasso.coef_, 's', label=\"Lasso alpha=1\")\n",
        "plt.plot(lasso001.coef_, '^', label=\"Lasso alpha=0.01\")\n",
        "plt.plot(lasso00001.coef_, 'v', label=\"Lasso alpha=0.0001\")\n",
        "plt.plot(ridge01.coef_, 'o', label=\"Ridge alpha=0.1\")\n",
        "plt.legend(ncol=2, loc=(0, 1.05))\n",
        "plt.ylim(-25, 25)\n",
        "plt.xlabel(\"Coeficiente\")\n",
        "plt.ylabel(\"Magnitude\")"
      ],
      "execution_count": null,
      "outputs": [
        {
          "output_type": "execute_result",
          "data": {
            "text/plain": [
              "Text(0, 0.5, 'Magnitude')"
            ]
          },
          "metadata": {
            "tags": []
          },
          "execution_count": 33
        },
        {
          "output_type": "display_data",
          "data": {
            "image/png": "[encoded data removed]",
            "text/plain": [
              "<Figure size 648x432 with 1 Axes>"
            ]
          },
          "metadata": {
            "tags": [],
            "needs_background": "light"
          }
        }
      ]
    }
  ]
}